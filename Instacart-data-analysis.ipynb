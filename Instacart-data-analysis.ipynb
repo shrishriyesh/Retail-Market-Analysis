﻿{
  "metadata": {
    "name": "Instacart-data-analysis",
    "kernelspec": {
      "language": "scala",
      "name": "spark2-scala"
    },
    "language_info": {
      "codemirror_mode": "text/x-scala",
      "file_extension": ".scala",
      "mimetype": "text/x-scala",
      "name": "scala",
      "pygments_lexer": "scala"
    }
  },
  "nbformat": 4,
  "nbformat_minor": 2,
  "cells": [
    {
      "cell_type": "code",
      "execution_count": 0,
      "metadata": {
        "autoscroll": "auto"
      },
      "outputs": [],
      "source": "val schema \u003d \"add_to_cart_order INT, reordered INT, order_number INT, order_dow INT, order_hour_of_day INT, days_since_prior_order DOUBLE, product_name STRING, aisle STRING, department STRING\""
    },
    {
      "cell_type": "code",
      "execution_count": 1,
      "metadata": {
        "autoscroll": "auto"
      },
      "outputs": [],
      "source": "val cleanDF \u003d spark.read.schema(schema).parquet(\"instacart/instacart-clean.parquet\")"
    },
    {
      "cell_type": "code",
      "execution_count": 2,
      "metadata": {
        "autoscroll": "auto"
      },
      "outputs": [],
      "source": "z.show(cleanDF)"
    },
    {
      "cell_type": "code",
      "execution_count": 3,
      "metadata": {
        "autoscroll": "auto"
      },
      "outputs": [],
      "source": "cleanDF.printSchema"
    },
    {
      "cell_type": "markdown",
      "metadata": {},
      "source": "## Orders vs Days of the Week\n\n"
    },
    {
      "cell_type": "code",
      "execution_count": 5,
      "metadata": {
        "autoscroll": "auto"
      },
      "outputs": [],
      "source": "val orderDayDF \u003d cleanDF.groupBy(\"order_dow\").agg(count(\"order_dow\") as \"order_count\")\n\nval reorderedDayDF \u003d cleanDF.where(col(\"reordered\") \u003d\u003d\u003d 1).groupBy(\"order_dow\").agg(count(\"order_dow\") as \"order_count_reordered\")"
    },
    {
      "cell_type": "code",
      "execution_count": 6,
      "metadata": {
        "autoscroll": "auto"
      },
      "outputs": [],
      "source": "val joined \u003d orderDayDF.join(reorderedDayDF, Seq(\"order_dow\"))\n\nz.show(joined)"
    },
    {
      "cell_type": "markdown",
      "metadata": {},
      "source": "## Orders vs Hour of the Day"
    },
    {
      "cell_type": "code",
      "execution_count": 8,
      "metadata": {
        "autoscroll": "auto"
      },
      "outputs": [],
      "source": "val orderHourDF \u003d cleanDF.groupBy(\"order_hour_of_day\").agg(count(\"order_hour_of_day\") as \"order_count\")\n\nval reorderedHourDF \u003d cleanDF.where(col(\"reordered\") \u003d\u003d\u003d 1).groupBy(\"order_hour_of_day\").agg(count(\"order_hour_of_day\") as \"order_count_reordered\")"
    },
    {
      "cell_type": "code",
      "execution_count": 9,
      "metadata": {
        "autoscroll": "auto"
      },
      "outputs": [],
      "source": "val joined \u003d orderHourDF.join(reorderedHourDF, Seq(\"order_hour_of_day\"))\n\nz.show(joined)"
    },
    {
      "cell_type": "markdown",
      "metadata": {},
      "source": "## Frequently ordered product departments and aisles"
    },
    {
      "cell_type": "code",
      "execution_count": 11,
      "metadata": {
        "autoscroll": "auto"
      },
      "outputs": [],
      "source": "val orderDepartmentsDF \u003d cleanDF.groupBy(\"department\").agg(count(\"department\") as \"order_count\").orderBy(desc(\"order_count\"))"
    },
    {
      "cell_type": "code",
      "execution_count": 12,
      "metadata": {
        "autoscroll": "auto"
      },
      "outputs": [],
      "source": "z.show(orderDepartmentsDF)"
    },
    {
      "cell_type": "code",
      "execution_count": 13,
      "metadata": {
        "autoscroll": "auto"
      },
      "outputs": [],
      "source": "val orderAisleDF \u003d cleanDF.groupBy(\"aisle\").agg(count(\"aisle\") as \"order_count\").orderBy(desc(\"order_count\"))"
    },
    {
      "cell_type": "code",
      "execution_count": 14,
      "metadata": {
        "autoscroll": "auto"
      },
      "outputs": [],
      "source": "z.show(orderAisleDF.limit(25))"
    },
    {
      "cell_type": "markdown",
      "metadata": {},
      "source": "## Most commonly reordered products"
    },
    {
      "cell_type": "code",
      "execution_count": 16,
      "metadata": {
        "autoscroll": "auto"
      },
      "outputs": [],
      "source": "val reorderedItems \u003d cleanDF.filter(col(\"reordered\") \u003d\u003d\u003d 1)\n\nval productReorderCounts \u003d reorderedItems.groupBy(\"product_name\").agg(count(\"reordered\") as \"reorder_count\").orderBy(desc(\"reorder_count\"))"
    },
    {
      "cell_type": "code",
      "execution_count": 17,
      "metadata": {
        "autoscroll": "auto"
      },
      "outputs": [],
      "source": "z.show(productReorderCounts.limit(20))"
    },
    {
      "cell_type": "markdown",
      "metadata": {},
      "source": "## Position in the shopping cart vs Reorder Rate"
    },
    {
      "cell_type": "code",
      "execution_count": 19,
      "metadata": {
        "autoscroll": "auto"
      },
      "outputs": [],
      "source": "val positionReorderRate \u003d cleanDF.groupBy(\"add_to_cart_order\")\r\n  .agg(\r\n    count(\"reordered\") as \"total_items\",\r\n    sum(\"reordered\") as \"reordered_items\"\r\n  )\r\n  .withColumn(\"reorder_rate\", col(\"reordered_items\") / col(\"total_items\"))\r\n"
    },
    {
      "cell_type": "code",
      "execution_count": 20,
      "metadata": {
        "autoscroll": "auto"
      },
      "outputs": [],
      "source": "z.show(positionReorderRate)"
    }
  ]
}